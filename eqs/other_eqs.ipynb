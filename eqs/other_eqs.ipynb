{
 "cells": [
  {
   "cell_type": "code",
   "execution_count": 1,
   "metadata": {},
   "outputs": [],
   "source": [
    "from sympy import *\n",
    "init_printing(use_latex=True, long_frac_ratio=5)\n",
    "import numpy as np"
   ]
  },
  {
   "cell_type": "markdown",
   "metadata": {},
   "source": [
    "#### Usual two-body problem equations\n",
    "\n",
    "$$ h = r^2 \\, \\dot{\\nu} = \\sqrt{1 - e^2} \\sqrt{\\mu \\, a} = \\sqrt{1 - e^2} \\, a^2 n  $$"
   ]
  },
  {
   "cell_type": "markdown",
   "metadata": {},
   "source": [
    "$$ v^2 = \\mu \\left(\\frac{2}{r} - \\frac{1}{a} \\right)  = \\frac{a^2 n}{r} \\sqrt{1 - e^2 \\cos^2{E}}$$ "
   ]
  },
  {
   "cell_type": "markdown",
   "metadata": {},
   "source": [
    "$$ M = E - e\\,\\sin{E} $$"
   ]
  },
  {
   "cell_type": "markdown",
   "metadata": {},
   "source": [
    "$$ \\dot{E} = \\frac{n}{1 - e\\,\\cos{E}}  = \\frac{a\\,n}{r}$$"
   ]
  },
  {
   "cell_type": "markdown",
   "metadata": {},
   "source": [
    "$$ \\frac{dM}{dE} = 1 - e \\cos{E} = \\frac{r}{a}$$"
   ]
  },
  {
   "cell_type": "markdown",
   "metadata": {},
   "source": [
    "$$ r = a (1 - e \\cos{E}) = \\frac{a (1 - e^2)}{1 + e \\cos{\\nu}} $$"
   ]
  },
  {
   "cell_type": "markdown",
   "metadata": {},
   "source": [
    "$$ \\dot{r} = \\frac{r^2 \\, e \\sin{\\nu}}{a(1 - e^2)} \\dot{\\nu} = \\frac{a\\,n\\,e}{\\sqrt{1 - e^2}}\\sin{\\nu} = \\frac{a^2 \\, n\\, e}{r} \\sin{E} $$ "
   ]
  },
  {
   "cell_type": "markdown",
   "metadata": {},
   "source": [
    "$$ \\dot{\\nu} = \\frac{\\sqrt{1 - e^2} a^2 n}{r^2} $$"
   ]
  },
  {
   "cell_type": "markdown",
   "metadata": {},
   "source": [
    "$$\\dot{a} = \\frac{2 a^2}{\\mu} \\left( \\dot{r} \\,F_r + r \\,\\dot{\\nu}\\, F_\\nu \\right) = \\frac{2}{a\\, n^2} \\left( \\dot{r} \\,F_r + r \\,\\dot{\\nu}\\, F_\\nu \\right)$$"
   ]
  },
  {
   "cell_type": "markdown",
   "metadata": {},
   "source": [
    "$$ \\dot{h} = r \\, F_\\nu$$"
   ]
  },
  {
   "cell_type": "markdown",
   "metadata": {},
   "source": [
    "$$\\dot{e} = \\frac{1 - e^2}{e} \\left(\\frac{\\dot{a}}{2\\,a} - \\frac{\\dot{h}}{h} \\right) $$"
   ]
  },
  {
   "cell_type": "markdown",
   "metadata": {},
   "source": [
    "\\begin{equation}\n",
    "\\cos{\\alpha} = \\frac{\\dot{r}}{v} = \\frac{a^2 \\,n}{v\\,r} e \\sin{E} \n",
    "\\end{equation}\n",
    "\n",
    "\\begin{equation}\n",
    "\\sin{\\alpha} = \\frac{\\dot{\\nu}r}{v} = \\frac{a^2 \\,n}{v\\,r} \\sqrt{1 - e^2} \n",
    "\\end{equation}"
   ]
  },
  {
   "cell_type": "markdown",
   "metadata": {},
   "source": [
    "## Drag force formalism"
   ]
  },
  {
   "cell_type": "markdown",
   "metadata": {},
   "source": [
    "The drag force per unit mass is :\n",
    "$$\\vec{F} = K \\, \\frac{v}{r^k} \\hat{v} $$\n",
    "where $K$ is a negative constant. Hereafter, to calculate the averaged equations we drop $K$ for convenience, and we reintroduce it later.  "
   ]
  },
  {
   "cell_type": "markdown",
   "metadata": {},
   "source": [
    "Decomposing the force in radial and tangential components, where $\\alpha$ is the angle between position and velocity vectors $\\vec{r}$ and $\\vec{v}$:\n",
    "$$\\vec{F}  = \\frac{v}{r^k} \\cos{\\alpha} \\, \\hat{r} + \\frac{v}{r^k} \\sin{\\alpha} \\, \\hat{\\nu}  = F_r\\, \\hat{r} + F_\\nu\\, \\hat{\\nu} $$"
   ]
  },
  {
   "cell_type": "markdown",
   "metadata": {},
   "source": [
    "\\begin{equation}\n",
    "F_r = \\frac{v}{r^k} \\frac{\\dot{r}}{v} = \\frac{\\dot{r}}{r^k}\n",
    "\\end{equation}\n",
    "\n",
    "\\begin{equation}\n",
    "F_\\nu = \\frac{v}{r^k} \\frac{r\\,\\dot{\\nu}}{v} = \\frac{r\\,\\dot{\\nu}}{r^k}\n",
    "\\end{equation}"
   ]
  },
  {
   "cell_type": "markdown",
   "metadata": {},
   "source": [
    "## Energy"
   ]
  },
  {
   "cell_type": "markdown",
   "metadata": {},
   "source": [
    "Radial part:\n",
    "\\begin{equation} \n",
    "\\dot{r} \\,F_r  = \\frac{\\dot{r}^2}{r^k}\n",
    "\\end{equation}\n",
    "\n",
    "Tangential part:\n",
    "\\begin{equation}\n",
    "r\\,\\dot{\\nu} \\,F_\\nu  = \\frac{\\dot{\\nu}^2\\,r^2}{r^k} = a^4\\,n^2\\, \\left( 1 - e^2 \\right) \\frac{1}{r^{k+2}}\n",
    "\\end{equation}\n"
   ]
  },
  {
   "cell_type": "markdown",
   "metadata": {},
   "source": [
    "Integrating radial part:\n",
    "\n",
    "$$ \\frac{1}{2\\pi} \\int^{2\\pi}_{0} \\, \\dot{r}\\, F_{r} dM =  \\frac{1}{2\\pi} \\int^{2\\pi}_{0} \\frac{\\dot{r}^2}{r^k} dM $$\n"
   ]
  },
  {
   "cell_type": "markdown",
   "metadata": {},
   "source": [
    "\\begin{align}\n",
    "& = \\frac{1}{2 \\pi a} \\int^{2\\pi}_{0} \\frac{\\dot{r}^2}{r^{k-1}} dE = \\frac{a^3\\,n^2\\,e^2}{2 \\pi} \\int^{2\\pi}_{0} \\frac{\\sin^{2}{E}}{r^{k+1}} dE \\\\\n",
    "& = \\frac{1}{2 \\pi a^2 \\sqrt{1 - e^2}} \\int^{2\\pi}_{0} \\frac{\\dot{r}^2}{r^{k-2}} d\\nu = \\frac{n^2\\,e^2}{2 \\pi \\left(1-e^2\\right)^{3/2}} \\int^{2\\pi}_{0} \\frac{\\sin^{2}{\\nu}}{r^{k-2}} d\\nu \\\\\n",
    "\\end{align}\n"
   ]
  },
  {
   "cell_type": "markdown",
   "metadata": {},
   "source": [
    "\\begin{align}\n",
    "& = \\frac{a^3\\,n^2\\,e^2}{2 \\pi} \\int^{2\\pi}_{0} \\frac{\\sin^{2}{E}}{r^{k+1}} dE = \\frac{a^{2-k}\\,n^2\\,e^2}{2 \\pi} \\int^{2\\pi}_{0} \\frac{\\sin^{2}{E}}{(1-e\\cos{E})^{k+1}} dE\\\\\n",
    "& = \\frac{n^2\\,e^2}{2 \\pi \\left(1-e^2\\right)^{3/2}} \\int^{2\\pi}_{0} \\frac{\\sin^{2}{\\nu}}{r^{k-2}} d\\nu = \\frac{n^2 \\, e^2}{2\\pi\\,a^{k-2} \\left(1-e^2 \\right)^{k-1/2} } \\int^{2\\pi}_{0} (1+e\\cos{\\nu})^{k-2} \\sin^{2}{\\nu} \\,d\\nu \\\\\n",
    "\\end{align}\n"
   ]
  },
  {
   "cell_type": "markdown",
   "metadata": {},
   "source": [
    "Integrating the equation in $\\nu$ for $k=2$:\n",
    "$$ \\frac{1}{2\\pi} \\int^{2\\pi}_{0} \\, \\dot{r}\\, F_{r} dM = \\frac{n^2 \\, e^2 \\,}{2(1-e^2)^{3/2}} $$"
   ]
  },
  {
   "cell_type": "markdown",
   "metadata": {},
   "source": [
    "Integrating tangential part:\n",
    "$$ \\frac{1}{2\\pi} \\int^{2\\pi}_{0} \\, r\\,\\dot{\\nu}\\, F_{\\nu} dM =  \\frac{a^4\\,n^2 (1-e^2)}{2\\pi} \\int^{2\\pi}_{0} \\frac{1}{r^{k+2}} dM $$\n"
   ]
  },
  {
   "cell_type": "markdown",
   "metadata": {},
   "source": [
    "\\begin{align}\n",
    "& = \\frac{a^3\\,n^2 (1-e^2)}{2\\pi} \\int^{2\\pi}_{0} \\frac{1}{r^{k+1}} dE = \\frac{a^{2-k}\\,n^2 (1-e^2)}{2\\pi} \\int^{2\\pi}_{0} \\frac{1}{(1 - e \\cos{E})^{k+1}} dE \\\\\n",
    "& =  \\frac{a^2\\,n^2 \\sqrt{1-e^2}}{2\\pi} \\int^{2\\pi}_{0} \\frac{1}{r^{k}} d\\nu = \\frac{n^2}{2\\pi\\,a^{k-2}\\, (1-e^2)^{k - 1/2}} \\int^{2\\pi}_{0} (1 + e \\cos{\\nu})^k d\\nu \\\\\n",
    "\\end{align}"
   ]
  },
  {
   "cell_type": "markdown",
   "metadata": {},
   "source": [
    "Integrating the equation in $\\nu$ for $k=2$:\n",
    "$$ \\frac{1}{2\\pi} \\int^{2\\pi}_{0} \\, r\\,\\dot{\\nu}\\, F_{\\nu} dM = \\frac{n^2}{ (1-e^2)^{3/2}} \\left(1 + \\frac{e^2}{2}\\right)$$"
   ]
  },
  {
   "cell_type": "markdown",
   "metadata": {},
   "source": [
    "Summing the contributions from the two components: "
   ]
  },
  {
   "cell_type": "markdown",
   "metadata": {},
   "source": [
    "$$ \\dot{a} = \\frac{2}{a^{k-1}\\, (1-e^2)^{k - 1/2}} \\left[ e^2 \\frac{1}{2\\pi}\\int^{2\\pi}_{0} (1+e\\cos{\\nu})^{k-2} \\sin^{2}{\\nu} \\,d\\nu  + \\frac{1}{2\\pi} \\int^{2\\pi}_{0} (1 + e \\cos{\\nu})^k d\\nu \\right]$$"
   ]
  },
  {
   "cell_type": "markdown",
   "metadata": {},
   "source": [
    "For $k=2$:\n",
    "$$ \\dot{a} = \\frac{2}{a\\, n^2} \\left[ \\frac{n^2 \\, e^2 \\,}{2(1-e^2)^{3/2}}  + \\frac{n^2}{ (1-e^2)^{3/2}} \\left(1 + \\frac{e^2}{2}\\right)\\right] = \\frac{2 (1 + e^2)}{a \\left( 1-e^2 \\right)^{3/2}}$$"
   ]
  },
  {
   "cell_type": "markdown",
   "metadata": {},
   "source": [
    "For $k=4$:\n",
    "$$ \\dot{a} = \\frac{2}{a^{3}(1-e^2)^{7/2}}\\left(\\frac{e^{4}}{2} + \\frac{7 e^{2}}{2} + 1 \\right)$$"
   ]
  },
  {
   "cell_type": "markdown",
   "metadata": {},
   "source": [
    "## Angular momentum: "
   ]
  },
  {
   "cell_type": "markdown",
   "metadata": {},
   "source": [
    "$$r \\,F_\\nu = \\frac{r^2\\dot{\\nu}}{r^{k}}$$"
   ]
  },
  {
   "cell_type": "markdown",
   "metadata": {},
   "source": [
    "Integrating:\n",
    "\n",
    "$$ \\frac{1}{2\\pi} \\int^{2\\pi}_{0} \\, r\\, F_{\\nu} dM =  \\frac{1}{2\\pi} \\int^{2\\pi}_{0} \\frac{r^2\\,\\dot{\\nu}}{r^k} dM $$\n"
   ]
  },
  {
   "cell_type": "markdown",
   "metadata": {},
   "source": [
    "$$ = \\frac{n}{2\\pi} \\int^{2\\pi}_{0} \\frac{1}{r^{k-2}} d\\nu  = \\frac{n}{2\\pi \\, a^{k-2} (1-e^2)^{k-2}} \\int_{0}^{2\\pi} (1 + e \\cos{\\nu})^{k-2} d\\nu $$"
   ]
  },
  {
   "cell_type": "markdown",
   "metadata": {},
   "source": [
    "$$ \\dot{h} = \\frac{n}{a^{k-2}\\,(1-e^2)^{k-2}} \\frac{1}{2\\pi} \\int_{0}^{2\\pi} (1 + e \\cos{\\nu})^{k-2} d\\nu$$"
   ]
  },
  {
   "cell_type": "markdown",
   "metadata": {},
   "source": [
    "$$ \\frac{\\dot{h}}{h} = \\frac{1}{a^{k}\\,(1-e^2)^{k-3/2}} \\frac{1}{2\\pi} \\int_{0}^{2\\pi} (1 + e \\cos{\\nu})^{k-2} d\\nu$$"
   ]
  },
  {
   "cell_type": "markdown",
   "metadata": {},
   "source": [
    "For $k=2$:\n",
    "\n",
    "$$ \\frac{\\dot{h}}{h} = \\frac{1}{a^2 \\, \\sqrt{1-e^2}} $$"
   ]
  },
  {
   "cell_type": "markdown",
   "metadata": {},
   "source": [
    "Summing together with $\\dot{a}/2a$:\n",
    "\n",
    "$$ \\dot{e} = \\frac{1 - e^2}{e} \\left(\\frac{\\dot{a}}{2\\,a} - \\frac{\\dot{h}}{h} \\right) = \\frac{2 e}{a^{2} \\sqrt{1 - e^{2}}}$$"
   ]
  },
  {
   "cell_type": "markdown",
   "metadata": {},
   "source": [
    "Final equations:\n",
    "\n",
    "\\begin{align}\n",
    "\\frac{da}{dt} & = K \\frac{2 (1 + e^2)}{a \\left( 1-e^2 \\right)^{3/2}} \\\\\n",
    "\\frac{de}{dt} & = K \\frac{2 e}{a^{2} \\sqrt{1 - e^{2}}}\n",
    "\\end{align}\n",
    "\n",
    "$K$ is a constant that sets the timescale of the decay. Since it's a drag force, it has negative sign and has physical dimension $L^2 \\, T^{-1}$. We can think $K$ as: \n",
    "\n",
    "$$K = - \\frac{A_{\\rm visc}}{T_{\\rm visc}}$$\n",
    "\n",
    "Where $T_{\\rm visc}$ is a viscosity timescale and $A_{\\rm visc}$ is an effective viscosity area. "
   ]
  },
  {
   "cell_type": "markdown",
   "metadata": {},
   "source": [
    "Given the common envelope formalism, $K$ must be computed from the expected energy loss $E_{\\rm CE}$ during the common envelope evolution, assuming a duration for the common envelope event. We can assume $T_{\\rm CE} = 100-1000$ yr. If we assume that the orbit decays from a circular orbit, $e_0 = 0$, we can find the analytical expression for $a(t)$:\n",
    "\n",
    "$$ a(t) = \\sqrt{a^2_0 + 4\\,K\\,t}$$\n",
    "\n",
    "\n"
   ]
  },
  {
   "cell_type": "markdown",
   "metadata": {},
   "source": [
    "The energy loss per unit mass due to the drag gorce can be also derived as:\n"
   ]
  },
  {
   "cell_type": "markdown",
   "metadata": {},
   "source": [
    "$$ \\frac{d \\varepsilon}{dt} = \\frac{\\mu}{2 a^2} \\frac{da}{dt} = - \\frac{8 K \\varepsilon^3}{\\mu^2} \\frac{1 + e^2}{ \\left( 1-e^2 \\right)^{3/2}}$$"
   ]
  },
  {
   "cell_type": "markdown",
   "metadata": {},
   "source": [
    "Given an initial orbit at $\\varepsilon_0$, and a final orbit at $\\varepsilon_f = \\varepsilon_0 + \\varepsilon_{\\rm CE}$, and assuming $e_0=0$, we can estimate the value of $K$:"
   ]
  },
  {
   "cell_type": "markdown",
   "metadata": {},
   "source": [
    "$$ K =  - \\frac{\\mu^2}{16 T_{\\rm CE}} (\\frac{1}{\\varepsilon_f^2} - \\frac{1}{\\varepsilon_0^2} ) $$"
   ]
  },
  {
   "cell_type": "markdown",
   "metadata": {},
   "source": [
    "Setting $T_{\\rm visc} = T_{\\rm visc}$, we find $A_{\\rm visc} = \\mu^2 (\\varepsilon_f^4 - \\varepsilon_0^4) / 24$"
   ]
  },
  {
   "cell_type": "code",
   "execution_count": null,
   "metadata": {},
   "outputs": [],
   "source": []
  }
 ],
 "metadata": {
  "kernelspec": {
   "display_name": "Python 3",
   "language": "python",
   "name": "python3"
  },
  "language_info": {
   "codemirror_mode": {
    "name": "ipython",
    "version": 3
   },
   "file_extension": ".py",
   "mimetype": "text/x-python",
   "name": "python",
   "nbconvert_exporter": "python",
   "pygments_lexer": "ipython3",
   "version": "3.8.6"
  }
 },
 "nbformat": 4,
 "nbformat_minor": 4
}
